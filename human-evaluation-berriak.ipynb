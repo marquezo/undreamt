{
 "cells": [
  {
   "cell_type": "markdown",
   "metadata": {},
   "source": [
    "# human-evaluation-berriak"
   ]
  },
  {
   "cell_type": "code",
   "execution_count": 1,
   "metadata": {},
   "outputs": [],
   "source": [
    "import os\n",
    "import numpy as np"
   ]
  },
  {
   "cell_type": "markdown",
   "metadata": {},
   "source": [
    "### Reading the predictions vs ground truth"
   ]
  },
  {
   "cell_type": "code",
   "execution_count": 2,
   "metadata": {},
   "outputs": [],
   "source": [
    "def read_parallel_corpora(corpus1_path, corpus2_path, rank, span):\n",
    "    \n",
    "    min_l = rank\n",
    "    max_l = rank + span\n",
    "\n",
    "    with open(corpus1_path, mode='rt', encoding='utf-8') as file1:\n",
    "        with open(corpus2_path, mode='rt', encoding='utf-8') as file2:\n",
    "    \n",
    "            for i, (sentence1, sentence2) in enumerate(zip(file1, file2)):\n",
    "                if min_l <= i < max_l:\n",
    "                    print(sentence1, end=\"\")\n",
    "                    print(sentence2)"
   ]
  },
  {
   "cell_type": "markdown",
   "metadata": {},
   "source": [
    "### Berriak english semisup.clean"
   ]
  },
  {
   "cell_type": "code",
   "execution_count": 3,
   "metadata": {},
   "outputs": [
    {
     "name": "stdout",
     "output_type": "stream",
     "text": [
      "﻿jd sports rose 3.1 % after the sportswear firm reported an 83 % jump in half-year pre-tax profits to £46.6m .\n",
      "the company said it was in a statement that the company had risen to $ 46 per cent over the previous year , with 46 per cent .\n",
      "\n",
      "furthermore , if there was appropriate financial success , retrospective payment of the expense allowance back to 1991 was agreed .\n",
      "in addition to the financial success of the financial instruments , the decision was paid to the income .\n",
      "\n",
      "following the reintroduction of controls on the german-austrian borders , 1,759 refugees reached the city on tuesday .\n",
      "after the control of germany and austria , in january 16 refugee camps arrived in <OOV> .\n",
      "\n",
      "`` radio 3 seems to be - i do n't like to use the word `` dumbing down '' - but it seems to be turning into classic fm , '' he said .\n",
      "<OOV> <OOV> <OOV> <OOV> <OOV> <OOV> <OOV> - <OOV> <OOV> <OOV> <OOV> <OOV> - <OOV> <OOV> <OOV> <OOV> <OOV> , but it is a <OOV> <OOV> <OOV> .\n",
      "\n",
      "while he was last seen smashing a racquet after cramp foiled a potential us open upset of richard gasquet , kokkinakis has been defended staunchly by healy .\n",
      "when the <OOV> , in a <OOV> , a <OOV> by the <OOV> <OOV> <OOV> bulls , the running of the bulls was created on the side of the <OOV> .\n",
      "\n",
      "plans for reform of the current arbitration procedure specifically provide for the eu states and the usa to jointly select independent judges for a new investment court .\n",
      "the current governments of the united states and <OOV> and <OOV> <OOV> are keeping their respective states in order to bring to the <OOV> in each year .\n",
      "\n",
      "this will reduce the volume of the hall .\n",
      "this room will reduce the volume .\n",
      "\n",
      "`` the senior citizens ' centre for care and nursing , '' is how heike riedel , managing director of saludis describes it .\n",
      "it describes the main director general of the <OOV> <OOV> the general directorate of citizens and the healthcare centre as well as the general director of <OOV> , <OOV> <OOV> centre <OOV> .\n",
      "\n",
      "`` i can rule that out. '' what will happen to the building , jochner-weiss can not say ; that needs more consideration .\n",
      "<OOV> it 's just what happens to me , <OOV> said , <OOV> , <OOV> , <OOV> , <OOV> , <OOV> does more .\n",
      "\n",
      "he 's received tons of accolades from fans .\n",
      "thousands of hundreds of thousands of <OOV> .\n",
      "\n"
     ]
    }
   ],
   "source": [
    "groundtruth_filename = \"./english_basque_MT-master/prep_berriak.en\"\n",
    "prediction_filename = \"./english_basque_MT-master/predicted_berriak.semisup.clean.en\"\n",
    "\n",
    "read_parallel_corpora(groundtruth_filename, prediction_filename, 0, 10)"
   ]
  },
  {
   "cell_type": "markdown",
   "metadata": {},
   "source": [
    "### Berriak english unsup.clean"
   ]
  },
  {
   "cell_type": "code",
   "execution_count": 4,
   "metadata": {},
   "outputs": [
    {
     "name": "stdout",
     "output_type": "stream",
     "text": [
      "﻿jd sports rose 3.1 % after the sportswear firm reported an 83 % jump in half-year pre-tax profits to £46.6m .\n",
      "<OOV> 's <OOV> <OOV> <OOV> , which grew to <OOV> in <OOV> firm <OOV> earlier this year , <OOV> <OOV> <OOV> <OOV> <OOV> and <OOV> were <OOV> <OOV> <OOV> after he was notified .\n",
      "\n",
      "furthermore , if there was appropriate financial success , retrospective payment of the expense allowance back to 1991 was agreed .\n",
      "that was enough to get the financial success in the 1989 debt ceiling .\n",
      "\n",
      "following the reintroduction of controls on the german-austrian borders , 1,759 refugees reached the city on tuesday .\n",
      "germany and caracas have been abolished under the border security after weeks of refugees .\n",
      "\n",
      "`` radio 3 seems to be - i do n't like to use the word `` dumbing down '' - but it seems to be turning into classic fm , '' he said .\n",
      "speculation that cbs 's playstation 2 did not like a drop in the word <OOV> word that word seems to become a viral .\n",
      "\n",
      "while he was last seen smashing a racquet after cramp foiled a potential us open upset of richard gasquet , kokkinakis has been defended staunchly by healy .\n",
      "the chancellor said : <OOV> the <OOV> of <OOV> barbara <OOV> <OOV> <OOV> <OOV> barbara <OOV> after <OOV> <OOV> <OOV> <OOV> <OOV> <OOV> <OOV> <OOV> <OOV> <OOV> <OOV> <OOV> <OOV> <OOV> <OOV> <OOV> <OOV> <OOV> <OOV> <OOV> <OOV> <OOV> <OOV>\n",
      "\n",
      "plans for reform of the current arbitration procedure specifically provide for the eu states and the usa to jointly select independent judges for a new investment court .\n",
      "the current <OOV> state <OOV> <OOV> <OOV> and <OOV> <OOV> <OOV> will maintain precisely <OOV> judge <OOV> <OOV> .\n",
      "\n",
      "this will reduce the volume of the hall .\n",
      "the dining volume extends .\n",
      "\n",
      "`` the senior citizens ' centre for care and nursing , '' is how heike riedel , managing director of saludis describes it .\n",
      "a new public care center for care and <OOV> describes <OOV> <OOV> describes <OOV>\n",
      "\n",
      "`` i can rule that out. '' what will happen to the building , jochner-weiss can not say ; that needs more consideration .\n",
      "mr <OOV> said : <OOV> this is what happens , though , <OOV> though , though , <OOV> though , <OOV> though , <OOV> we have <OOV> been in question . <OOV>\n",
      "\n",
      "he 's received tons of accolades from fans .\n",
      "thousands from <OOV> <OOV> .\n",
      "\n"
     ]
    }
   ],
   "source": [
    "groundtruth_filename = \"./english_basque_MT-master/prep_berriak.en\"\n",
    "prediction_filename = \"./english_basque_MT-master/predicted_berriak.unsup.clean.en\"\n",
    "\n",
    "read_parallel_corpora(groundtruth_filename, prediction_filename, 0, 10)"
   ]
  },
  {
   "cell_type": "markdown",
   "metadata": {},
   "source": [
    "### Berriak euskara semisup.clean"
   ]
  },
  {
   "cell_type": "code",
   "execution_count": 5,
   "metadata": {},
   "outputs": [
    {
     "name": "stdout",
     "output_type": "stream",
     "text": [
      "﻿jd sports %3 , hazi zen kirol-arropen enpresak urte erdiko zerga aurreko mozkinak %83 igo zirela eta 46 , -tan geratu zirela jakinarazi ondoren . \n",
      "<OOV> <OOV> <OOV> % 1 , egin zuen <OOV> , % 4 , <OOV> , batez ere .\n",
      "\n",
      "gainera , finantzetan nahikoa arrakasta lortzen bazuten , 1991ko gastuen hobaria atzera ordainduko zitzailela erabaki zen . \n",
      "horretaz gain , <OOV> <OOV> <OOV> <OOV> <OOV> , 1991n , <OOV> ordaintzea .\n",
      "\n",
      "alemania eta austriako mugen kontrolak berrezarri ondoren , 1.759 errefuxiatu iritsi ziren hirira asteartean . \n",
      "<OOV> <OOV> <OOV> <OOV> ezarri ondoren , <OOV> \" sartzea \" .\n",
      "\n",
      "\" badirudi radio 3 classic fm - ez zait gustatzen \" maila jaisten \" hitza erabilitzea , baina badirudi - classic fm bihurtzen ari dela \" , esan zuen . \n",
      "<OOV> 3 <OOV> \" <OOV> erabili nahi dut , hau da , \" <OOV> .\n",
      "\n",
      "azkenekoz uzkurdura batek aebko open-ean richard gasquet garaitzeko aukera zapuztu ondoren erraketa bat apurtzen ikusi bazuten ere , itsu-itsuan defendatu du kokkinakis healy-k . \n",
      "azken alde batetik , <OOV> <OOV> <OOV> ikusi izan zen , eta , richard <OOV> <OOV> <OOV> , <OOV> <OOV> <OOV> <OOV> defendatu zuen .\n",
      "\n",
      "egungo arbitraje-prozeduraren erreforma-planek ebko estatuak eta aeb mantentzen dituzte zehazki elkarrekin inbertsio-auzitegi berri baterako epaile idependenteak hauta ditzaten . \n",
      "<OOV> egungo <OOV> eta estatu <OOV> <OOV> buruzko <OOV> <OOV> bat egitea eta inbertsio berria <OOV> <OOV> .\n",
      "\n",
      "honek aretoko bolumena murriztuko du . \n",
      "honek liburutegiaren bolumena murriztu egingo du .\n",
      "\n",
      "\" hiritar nagusien zaintza eta erizaintzarako zentro \" gisa deskribatzen du saludis heike riedel zuzendari nagusiak . \n",
      "<OOV> ' <OOV> <OOV> \" , <OOV> zuzendari kudeatzaileak , <OOV> zuzendari <OOV> \" eta \" , dio <OOV> .\n",
      "\n",
      "\" hori bazter dezaket \" .  eraikinarekin zer gertatuko den , ordea , ezin du esan jochner-weiss-ek ; gogoeta gehiago behar du horrek . \n",
      "<OOV> ez du <OOV> gertatzen zer den , ez du esan behar <OOV> izango denik .\n",
      "\n",
      "milaka laudorio jaso ditu zaleengandik . \n",
      "<OOV> <OOV> jaso zituen .\n",
      "\n"
     ]
    }
   ],
   "source": [
    "groundtruth_filename = \"./english_basque_MT-master/prep_berriak.eu\"\n",
    "prediction_filename = \"./english_basque_MT-master/predicted_berriak.semisup.clean.eu\"\n",
    "\n",
    "read_parallel_corpora(groundtruth_filename, prediction_filename, 0, 10)"
   ]
  },
  {
   "cell_type": "markdown",
   "metadata": {},
   "source": [
    "### Berriak euskara unsup.clean"
   ]
  },
  {
   "cell_type": "code",
   "execution_count": 6,
   "metadata": {},
   "outputs": [
    {
     "name": "stdout",
     "output_type": "stream",
     "text": [
      "﻿jd sports %3 , hazi zen kirol-arropen enpresak urte erdiko zerga aurreko mozkinak %83 igo zirela eta 46 , -tan geratu zirela jakinarazi ondoren . \n",
      "sevillako kirolak 1.000 biztanle izatera iritsi ondoren , enpresak bere 2001ean bere 20.000 salto egin zuen , 20.000 <OOV> , eta bere 2016an <OOV> mozkinak <OOV> <OOV> .\n",
      "\n",
      "gainera , finantzetan nahikoa arrakasta lortzen bazuten , 1991ko gastuen hobaria atzera ordainduko zitzailela erabaki zen . \n",
      "honez gain , bertan , finantza arrakasta egoki bat , erantzukizun , gastuak , eta , beraz , 1991. urtetik aurrera adostu ziren .\n",
      "\n",
      "alemania eta austriako mugen kontrolak berrezarri ondoren , 1.759 errefuxiatu iritsi ziren hirira asteartean . \n",
      "ondoren , euskararen kontrol kontrolak egin zituen <OOV> mugak igo ziren , eta , gaur egun , hiria irailaren 1ean .\n",
      "\n",
      "\" badirudi radio 3 classic fm - ez zait gustatzen \" maila jaisten \" hitza erabilitzea , baina badirudi - classic fm bihurtzen ari dela \" , esan zuen . \n",
      "<OOV> irratia 5 .\n",
      "\n",
      "azkenekoz uzkurdura batek aebko open-ean richard gasquet garaitzeko aukera zapuztu ondoren erraketa bat apurtzen ikusi bazuten ere , itsu-itsuan defendatu du kokkinakis healy-k . \n",
      "azkenik .\n",
      "\n",
      "egungo arbitraje-prozeduraren erreforma-planek ebko estatuak eta aeb mantentzen dituzte zehazki elkarrekin inbertsio-auzitegi berri baterako epaile idependenteak hauta ditzaten . \n",
      "erreforma lanak egin zituen , eta gaur egungo auzi hau da , zehazki , oro har , estatu batuetan eta ameriketako estatu batuetan eta eurek aukeratutako epaimahai bat izendatzen duen arren .\n",
      "\n",
      "honek aretoko bolumena murriztuko du . \n",
      "gaur egun bolumena murrizten dute udaletxea .\n",
      "\n",
      "\" hiritar nagusien zaintza eta erizaintzarako zentro \" gisa deskribatzen du saludis heike riedel zuzendari nagusiak . \n",
      "goi mailako <OOV> goi mailako herritar gune bat izan behar du lanbide eta <OOV> , eta , hala nola , <OOV> , kudeatzeko , zuzendari gisa deskribatzen ez den arren .\n",
      "\n",
      "\" hori bazter dezaket \" .  eraikinarekin zer gertatuko den , ordea , ezin du esan jochner-weiss-ek ; gogoeta gehiago behar du horrek . \n",
      "<OOV> .\n",
      "\n",
      "milaka laudorio jaso ditu zaleengandik . \n",
      "2007an jaso zuen ospe handiko taldeak jaso zituen .\n",
      "\n"
     ]
    }
   ],
   "source": [
    "groundtruth_filename = \"./english_basque_MT-master/prep_berriak.eu\"\n",
    "prediction_filename = \"./english_basque_MT-master/predicted_berriak.unsup.clean.eu\"\n",
    "\n",
    "read_parallel_corpora(groundtruth_filename, prediction_filename, 0, 10)"
   ]
  },
  {
   "cell_type": "code",
   "execution_count": null,
   "metadata": {},
   "outputs": [],
   "source": []
  }
 ],
 "metadata": {
  "kernelspec": {
   "display_name": "Python 3",
   "language": "python",
   "name": "python3"
  },
  "language_info": {
   "codemirror_mode": {
    "name": "ipython",
    "version": 3
   },
   "file_extension": ".py",
   "mimetype": "text/x-python",
   "name": "python",
   "nbconvert_exporter": "python",
   "pygments_lexer": "ipython3",
   "version": "3.6.6"
  }
 },
 "nbformat": 4,
 "nbformat_minor": 2
}
