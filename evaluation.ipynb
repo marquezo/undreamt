{
 "cells": [
  {
   "cell_type": "code",
   "execution_count": 1,
   "metadata": {},
   "outputs": [
    {
     "name": "stderr",
     "output_type": "stream",
     "text": [
      "/home/orlandom/anaconda3/lib/python3.6/importlib/_bootstrap.py:219: RuntimeWarning: numpy.dtype size changed, may indicate binary incompatibility. Expected 96, got 88\n",
      "  return f(*args, **kwds)\n",
      "/home/orlandom/anaconda3/lib/python3.6/importlib/_bootstrap.py:219: RuntimeWarning: numpy.dtype size changed, may indicate binary incompatibility. Expected 96, got 88\n",
      "  return f(*args, **kwds)\n",
      "/home/orlandom/anaconda3/lib/python3.6/importlib/_bootstrap.py:219: RuntimeWarning: numpy.dtype size changed, may indicate binary incompatibility. Expected 96, got 88\n",
      "  return f(*args, **kwds)\n"
     ]
    }
   ],
   "source": [
    "import os\n",
    "import numpy as np\n",
    "\n",
    "import nltk\n",
    "from nltk.tokenize import word_tokenize\n",
    "from nltk.translate import bleu_score\n",
    "\n",
    "from euskalToken import EuskalToken\n",
    "\n",
    "import warnings\n",
    "warnings.filterwarnings(\"ignore\")\n",
    "\n",
    "def avg_of_sentence_bleu_scores(groundtruth_filename, prediction_filename, language):\n",
    "    \n",
    "    list_of_scores = []\n",
    "    \n",
    "    if language == \"euskara\":\n",
    "        tokenize = EuskalToken().tokenize\n",
    "    elif language == \"english\":\n",
    "        tokenize = word_tokenize\n",
    "            \n",
    "    with open(groundtruth_filename, encoding=\"utf8\") as gtfile, open(prediction_filename, encoding=\"utf8\") as predfile:\n",
    "   \n",
    "        for i, (gt_sentence, predicted_sentence) in enumerate(zip(gtfile, predfile)):   \n",
    "        \n",
    "            gt_list_of_tokens = tokenize(gt_sentence)\n",
    "            predicted_list_of_tokens = predicted_sentence.split()\n",
    "\n",
    "            list_of_scores.append(bleu_score.sentence_bleu([gt_list_of_tokens], predicted_list_of_tokens))\n",
    "            \n",
    "        array_of_scores = np.asarray(list_of_scores)\n",
    "        avg_bleu_scores = array_of_scores.mean()\n",
    "          \n",
    "    return avg_bleu_scores\n"
   ]
  },
  {
   "cell_type": "code",
   "execution_count": 2,
   "metadata": {},
   "outputs": [
    {
     "name": "stdout",
     "output_type": "stream",
     "text": [
      "Non smoothed BLEU score: 0.14%\n"
     ]
    }
   ],
   "source": [
    "groundtruth_filename = \"./evaldata/berriak.en\"\n",
    "prediction_filename = \"./predictions/predicted_berriak.unsup.en\"\n",
    "\n",
    "# Without smoothing\n",
    "score = avg_of_sentence_bleu_scores(groundtruth_filename, prediction_filename, \"english\")\n",
    "print(\"Non smoothed BLEU score: {:.2%}\".format(score))"
   ]
  },
  {
   "cell_type": "code",
   "execution_count": 3,
   "metadata": {},
   "outputs": [
    {
     "name": "stdout",
     "output_type": "stream",
     "text": [
      "Non smoothed BLEU score: 0.48%\n"
     ]
    }
   ],
   "source": [
    "groundtruth_filename = \"./evaldata/berriak.en\"\n",
    "prediction_filename = \"./predictions/predicted_berriak.semisup.en\"\n",
    "\n",
    "# Without smoothing\n",
    "score = avg_of_sentence_bleu_scores(groundtruth_filename, prediction_filename, \"english\")\n",
    "print(\"Non smoothed BLEU score: {:.2%}\".format(score))"
   ]
  },
  {
   "cell_type": "code",
   "execution_count": 4,
   "metadata": {},
   "outputs": [
    {
     "name": "stdout",
     "output_type": "stream",
     "text": [
      "Non smoothed BLEU score: 0.03%\n"
     ]
    }
   ],
   "source": [
    "groundtruth_filename = \"./evaldata/berriak.eu\"\n",
    "prediction_filename = \"./predictions/predicted_berriak.unsup.eu\"\n",
    "\n",
    "# Without smoothing\n",
    "score = avg_of_sentence_bleu_scores(groundtruth_filename, prediction_filename, \"euskara\")\n",
    "print(\"Non smoothed BLEU score: {:.2%}\".format(score))"
   ]
  },
  {
   "cell_type": "code",
   "execution_count": 5,
   "metadata": {},
   "outputs": [
    {
     "name": "stdout",
     "output_type": "stream",
     "text": [
      "Non smoothed BLEU score: 0.17%\n"
     ]
    }
   ],
   "source": [
    "groundtruth_filename = \"./evaldata/berriak.eu\"\n",
    "prediction_filename = \"./predictions/predicted_berriak.semisup.eu\"\n",
    "\n",
    "# Without smoothing\n",
    "score = avg_of_sentence_bleu_scores(groundtruth_filename, prediction_filename, \"euskara\")\n",
    "print(\"Non smoothed BLEU score: {:.2%}\".format(score))"
   ]
  }
 ],
 "metadata": {
  "kernelspec": {
   "display_name": "Python 3",
   "language": "python",
   "name": "python3"
  },
  "language_info": {
   "codemirror_mode": {
    "name": "ipython",
    "version": 3
   },
   "file_extension": ".py",
   "mimetype": "text/x-python",
   "name": "python",
   "nbconvert_exporter": "python",
   "pygments_lexer": "ipython3",
   "version": "3.6.4"
  }
 },
 "nbformat": 4,
 "nbformat_minor": 2
}
