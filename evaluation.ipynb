{
 "cells": [
  {
   "cell_type": "code",
   "execution_count": 22,
   "metadata": {},
   "outputs": [],
   "source": [
    "import os\n",
    "import numpy as np\n",
    "\n",
    "import nltk\n",
    "from nltk.tokenize import word_tokenize\n",
    "from nltk.translate import bleu_score\n",
    "\n",
    "from euskalToken import EuskalToken\n",
    "\n",
    "import warnings\n",
    "warnings.filterwarnings(\"ignore\")\n",
    "\n",
    "def avg_of_sentence_bleu_scores(groundtruth_filename, prediction_filename, language):\n",
    "    \n",
    "    list_of_scores = []\n",
    "    \n",
    "    if language == \"euskara\":\n",
    "        tokenize = EuskalToken().tokenize\n",
    "    elif language == \"english\":\n",
    "        tokenize = word_tokenize\n",
    "            \n",
    "    with open(groundtruth_filename, encoding=\"utf8\") as gtfile, open(prediction_filename, encoding=\"utf8\") as predfile:\n",
    "   \n",
    "        for i, (gt_sentence, predicted_sentence) in enumerate(zip(gtfile, predfile)):   \n",
    "        \n",
    "            gt_list_of_tokens = tokenize(gt_sentence)\n",
    "            predicted_list_of_tokens = predicted_sentence.split()\n",
    "\n",
    "            list_of_scores.append(bleu_score.sentence_bleu([gt_list_of_tokens], predicted_list_of_tokens))\n",
    "            \n",
    "        array_of_scores = np.asarray(list_of_scores)\n",
    "        avg_bleu_scores = array_of_scores.mean()\n",
    "          \n",
    "    return avg_bleu_scores\n"
   ]
  },
  {
   "cell_type": "code",
   "execution_count": 2,
   "metadata": {},
   "outputs": [
    {
     "name": "stdout",
     "output_type": "stream",
     "text": [
      "Non smoothed BLEU score: 0.14%\n"
     ]
    }
   ],
   "source": [
    "groundtruth_filename = \"./evaldata/berriak.en\"\n",
    "prediction_filename = \"./predictions/predicted_berriak.unsup.en\"\n",
    "\n",
    "# Without smoothing\n",
    "score = avg_of_sentence_bleu_scores(groundtruth_filename, prediction_filename, \"english\")\n",
    "print(\"Non smoothed BLEU score: {:.2%}\".format(score))"
   ]
  },
  {
   "cell_type": "code",
   "execution_count": 3,
   "metadata": {},
   "outputs": [
    {
     "name": "stdout",
     "output_type": "stream",
     "text": [
      "Non smoothed BLEU score: 0.48%\n"
     ]
    }
   ],
   "source": [
    "groundtruth_filename = \"./evaldata/berriak.en\"\n",
    "prediction_filename = \"./predictions/predicted_berriak.semisup.en\"\n",
    "\n",
    "# Without smoothing\n",
    "score = avg_of_sentence_bleu_scores(groundtruth_filename, prediction_filename, \"english\")\n",
    "print(\"Non smoothed BLEU score: {:.2%}\".format(score))"
   ]
  },
  {
   "cell_type": "code",
   "execution_count": 4,
   "metadata": {},
   "outputs": [
    {
     "name": "stdout",
     "output_type": "stream",
     "text": [
      "Non smoothed BLEU score: 0.03%\n"
     ]
    }
   ],
   "source": [
    "groundtruth_filename = \"./evaldata/berriak.eu\"\n",
    "prediction_filename = \"./predictions/predicted_berriak.unsup.eu\"\n",
    "\n",
    "# Without smoothing\n",
    "score = avg_of_sentence_bleu_scores(groundtruth_filename, prediction_filename, \"euskara\")\n",
    "print(\"Non smoothed BLEU score: {:.2%}\".format(score))"
   ]
  },
  {
   "cell_type": "code",
   "execution_count": 5,
   "metadata": {},
   "outputs": [
    {
     "name": "stdout",
     "output_type": "stream",
     "text": [
      "Non smoothed BLEU score: 0.17%\n"
     ]
    }
   ],
   "source": [
    "groundtruth_filename = \"./evaldata/berriak.eu\"\n",
    "prediction_filename = \"./predictions/predicted_berriak.semisup.eu\"\n",
    "\n",
    "# Without smoothing\n",
    "score = avg_of_sentence_bleu_scores(groundtruth_filename, prediction_filename, \"euskara\")\n",
    "print(\"Non smoothed BLEU score: {:.2%}\".format(score))"
   ]
  },
  {
   "cell_type": "code",
   "execution_count": 23,
   "metadata": {},
   "outputs": [
    {
     "name": "stdout",
     "output_type": "stream",
     "text": [
      "Found 55333 embeddings with dimension 300\n",
      "55333\n"
     ]
    }
   ],
   "source": [
    "import io\n",
    "\n",
    "embeddings_handler = io.open(\"train_vocab.eu\", 'r', encoding='utf-8', newline='\\n', errors='ignore')\n",
    "\n",
    "n, d = map(int, embeddings_handler.readline().split())\n",
    "print(\"Found {} embeddings with dimension {}\".format(n, d))\n",
    "\n",
    "vocab = []\n",
    "\n",
    "for line in embeddings_handler:\n",
    "    tokens = line.rstrip().split(' ')\n",
    "    vocab.append(tokens[0])\n",
    "    \n",
    "print(len(vocab))"
   ]
  },
  {
   "cell_type": "code",
   "execution_count": 24,
   "metadata": {},
   "outputs": [],
   "source": [
    "def chunks(l, n):\n",
    "    for i in range(0, len(l), n):\n",
    "        yield l[i:i+n]\n",
    "        \n",
    "def compute_oov(lines, vocab):\n",
    "    calc_oov = []\n",
    "    \n",
    "    for line in lines:\n",
    "        tokens = line.rstrip().split()\n",
    "        num_oov = 0.\n",
    "        \n",
    "        for token in tokens:\n",
    "            if token not in vocab:\n",
    "                num_oov += 1\n",
    "                \n",
    "        calc_oov.append(num_oov/len(tokens))\n",
    "        \n",
    "    return calc_oov\n",
    "\n",
    "def filter_oov(lines, vocab):\n",
    "    filtered = []\n",
    "    \n",
    "    for line in lines:\n",
    "        tokens = line.rstrip().split()\n",
    "        num_oov = 0.\n",
    "        \n",
    "        for token in tokens:\n",
    "            if token not in vocab:\n",
    "                num_oov += 1\n",
    "                \n",
    "        if num_oov/len(tokens) <= 0.1:\n",
    "            filtered.append(line)\n",
    "        \n",
    "    return filtered"
   ]
  },
  {
   "cell_type": "code",
   "execution_count": 25,
   "metadata": {},
   "outputs": [
    {
     "name": "stdout",
     "output_type": "stream",
     "text": [
      "Processed 100000 sentences\n",
      "Processed 200000 sentences\n",
      "Processed 300000 sentences\n",
      "Processed 400000 sentences\n",
      "Processed 500000 sentences\n",
      "Processed 600000 sentences\n",
      "Processed 700000 sentences\n",
      "Processed 800000 sentences\n",
      "Processed 900000 sentences\n",
      "Processed 1000000 sentences\n",
      "Processed 1100000 sentences\n",
      "Processed 1200000 sentences\n",
      "Processed 1300000 sentences\n",
      "Processed 1400000 sentences\n",
      "Processed 1500000 sentences\n",
      "Processed 1600000 sentences\n",
      "Processed 1700000 sentences\n",
      "Processed 1800000 sentences\n",
      "Processed 1900000 sentences\n",
      "Processed 2000000 sentences\n",
      "Processed 2100000 sentences\n",
      "Processed 2200000 sentences\n",
      "Processed 2300000 sentences\n",
      "Processed 2400000 sentences\n"
     ]
    }
   ],
   "source": [
    "import math\n",
    "import concurrent.futures\n",
    "from itertools import repeat\n",
    "\n",
    "total = 0\n",
    "perc_oov = []\n",
    "\n",
    "# Sentences have already been tokenized\n",
    "with open(\"sentences.eu\", \"r\") as f:\n",
    "    sentences = f.readlines()\n",
    "    \n",
    "num_chunks = 1000\n",
    "chunked_sentences = chunks(sentences, num_chunks)\n",
    "vocab_repeated = repeat(vocab, math.ceil(len(sentences)/num_chunks))\n",
    "oov_stats = []    \n",
    "    \n",
    "with concurrent.futures.ProcessPoolExecutor() as executor:\n",
    "    for updated_sents in executor.map(compute_oov, chunked_sentences, vocab_repeated):\n",
    "        oov_stats.extend(updated_sents)\n",
    "        \n",
    "        if len(oov_stats) % 100000 == 0:\n",
    "            print(\"Processed {} sentences\".format(len(oov_stats)))"
   ]
  },
  {
   "cell_type": "code",
   "execution_count": 26,
   "metadata": {},
   "outputs": [
    {
     "data": {
      "image/png": "[encoded data removed]",
      "text/plain": [
       "<Figure size 432x288 with 1 Axes>"
      ]
     },
     "metadata": {},
     "output_type": "display_data"
    }
   ],
   "source": [
    "import matplotlib.mlab as mlab\n",
    "import matplotlib.pyplot as plt\n",
    "%matplotlib inline\n",
    "\n",
    "n, bins, patches = plt.hist(oov_stats, 10, facecolor='blue', alpha=0.5)\n",
    "plt.title(\"OOV percentage in Wikipedia Basque corpus\")\n",
    "plt.xlabel(\"OOV percentage\")\n",
    "plt.ylabel(\"# of sentences\")\n",
    "plt.show()"
   ]
  },
  {
   "cell_type": "code",
   "execution_count": 27,
   "metadata": {},
   "outputs": [
    {
     "name": "stdout",
     "output_type": "stream",
     "text": [
      "Processed 2485520 sentences\n"
     ]
    }
   ],
   "source": [
    "# Sentences have already been tokenized\n",
    "with open(\"parallel_sents.eu.train\", \"r\") as f:\n",
    "    sentences = f.readlines()\n",
    "    \n",
    "num_chunks = 1000\n",
    "chunked_sentences = chunks(sentences, num_chunks)\n",
    "vocab_repeated = repeat(vocab, math.ceil(len(sentences)/num_chunks))\n",
    "oov_stats_paco = []    \n",
    "    \n",
    "with concurrent.futures.ProcessPoolExecutor() as executor:\n",
    "    for updated_sents in executor.map(compute_oov, chunked_sentences, vocab_repeated):\n",
    "        oov_stats_paco.extend(updated_sents)\n",
    "        \n",
    "        if len(oov_stats_paco) % 100000 == 0:\n",
    "            print(\"Processed {} sentences\".format(len(oov_stats)))"
   ]
  },
  {
   "cell_type": "code",
   "execution_count": 74,
   "metadata": {},
   "outputs": [
    {
     "data": {
      "image/png": "[encoded data removed]",
      "text/plain": [
       "<Figure size 432x288 with 2 Axes>"
      ]
     },
     "metadata": {},
     "output_type": "display_data"
    }
   ],
   "source": [
    "fig, ax1 = plt.subplots()\n",
    "n, bins, patches = ax1.hist(oov_stats, 10, ls='dashed', alpha = 0.9, lw=3, color= 'g', label=\"Wikipedia\")\n",
    "ax2 = ax1.twinx()\n",
    "n, bins, patches = ax2.hist(oov_stats_berriak, 10, ls='dotted', alpha = 0.5, lw=3, color= 'r', label=\"Berriak\")\n",
    "ax1.set_ylabel('# of sentences')\n",
    "ax1.set_xlabel('<OOV> proportion')\n",
    "ax2.set_ylabel('# of sentences')\n",
    "ax2.tick_params('y')\n",
    "fig.tight_layout()\n",
    "ax1.legend(loc='upper right')\n",
    "ax2.legend(loc='lower right')\n",
    "ax1.set_title(\"<OOV> in Wikipedia and Berriak Basque\")\n",
    "plt.show()"
   ]
  },
  {
   "cell_type": "code",
   "execution_count": 38,
   "metadata": {},
   "outputs": [
    {
     "data": {
      "image/png": "[encoded data removed]",
      "text/plain": [
       "<Figure size 1440x1440 with 1 Axes>"
      ]
     },
     "metadata": {},
     "output_type": "display_data"
    }
   ],
   "source": [
    "plt.figure(figsize=(20,20))\n",
    "n, bins, patches = plt.hist(oov_stats, 10, facecolor='blue')\n",
    "n, bins, patches = plt.hist(oov_stats_paco, 10, facecolor='red')\n",
    "n, bins, patches = plt.hist(oov_stats_berriak, 10, facecolor='green')\n",
    "plt.title(\"OOV percentage in PACO Basque training corpus\")\n",
    "plt.xlabel(\"OOV percentage\")\n",
    "plt.ylabel(\"# of sentences\")\n",
    "plt.show()"
   ]
  },
  {
   "cell_type": "code",
   "execution_count": 30,
   "metadata": {},
   "outputs": [],
   "source": [
    "# Sentences have already been tokenized\n",
    "with open(\"evaldata/berriak.eu\", \"r\") as f:\n",
    "    sentences = f.readlines()\n",
    "    \n",
    "num_chunks = 1000\n",
    "chunked_sentences = chunks(sentences, num_chunks)\n",
    "vocab_repeated = repeat(vocab, math.ceil(len(sentences)/num_chunks))\n",
    "oov_stats_berriak = []    \n",
    "    \n",
    "with concurrent.futures.ProcessPoolExecutor() as executor:\n",
    "    for updated_sents in executor.map(compute_oov, chunked_sentences, vocab_repeated):\n",
    "        oov_stats_berriak.extend(updated_sents)\n",
    "        \n",
    "        if len(oov_stats_berriak) % 100000 == 0:\n",
    "            print(\"Processed {} sentences\".format(len(oov_stats_berriak)))"
   ]
  },
  {
   "cell_type": "code",
   "execution_count": 16,
   "metadata": {},
   "outputs": [
    {
     "data": {
      "image/png": "[encoded data removed]",
      "text/plain": [
       "<matplotlib.figure.Figure at 0x7fb91403e940>"
      ]
     },
     "metadata": {},
     "output_type": "display_data"
    }
   ],
   "source": [
    "n, bins, patches = plt.hist(oov_stats, 10, facecolor='blue', alpha=0.5)\n",
    "plt.title(\"OOV percentage in Berriak Basque corpus\")\n",
    "plt.xlabel(\"OOV percentage\")\n",
    "plt.ylabel(\"# of sentences\")\n",
    "plt.show()"
   ]
  },
  {
   "cell_type": "code",
   "execution_count": 19,
   "metadata": {},
   "outputs": [],
   "source": [
    "with open(\"all_sentences.eu\", \"r\") as f:\n",
    "    sentences = f.readlines()\n",
    "    \n",
    "num_chunks = 1000\n",
    "chunked_sentences = chunks(sentences, num_chunks)\n",
    "vocab_repeated = repeat(vocab, math.ceil(len(sentences)/num_chunks))\n",
    "result = []    \n",
    "    \n",
    "with concurrent.futures.ProcessPoolExecutor() as executor:\n",
    "    for updated_sents in executor.map(filter_oov, chunked_sentences, vocab_repeated):\n",
    "        result.extend(updated_sents)\n",
    "        \n",
    "        if len(result) % 100000 == 0:\n",
    "            print(\"Processed {} sentences\".format(len(result)))"
   ]
  },
  {
   "cell_type": "code",
   "execution_count": 22,
   "metadata": {},
   "outputs": [],
   "source": [
    "with open(\"clean_mono.eu\", 'w') as file:\n",
    "    file.writelines(\"%s\" % line for line in result)"
   ]
  }
 ],
 "metadata": {
  "kernelspec": {
   "display_name": "Python 3",
   "language": "python",
   "name": "python3"
  },
  "language_info": {
   "codemirror_mode": {
    "name": "ipython",
    "version": 3
   },
   "file_extension": ".py",
   "mimetype": "text/x-python",
   "name": "python",
   "nbconvert_exporter": "python",
   "pygments_lexer": "ipython3",
   "version": "3.6.4"
  }
 },
 "nbformat": 4,
 "nbformat_minor": 2
}
