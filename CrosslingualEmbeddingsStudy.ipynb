{
 "cells": [
  {
   "cell_type": "markdown",
   "metadata": {},
   "source": [
    "# Crosslingual Embeddings Study"
   ]
  },
  {
   "cell_type": "markdown",
   "metadata": {},
   "source": [
    "### Counting the number of rows of embeddings"
   ]
  },
  {
   "cell_type": "code",
   "execution_count": 1,
   "metadata": {},
   "outputs": [],
   "source": [
    "def nb_rows_embeddings(emb_path):\n",
    "    \n",
    "    with open(emb_path) as f:\n",
    "        for i, l in enumerate(f):\n",
    "            pass\n",
    "    return i     # We don't count the 0th line"
   ]
  },
  {
   "cell_type": "code",
   "execution_count": 2,
   "metadata": {},
   "outputs": [
    {
     "name": "stdout",
     "output_type": "stream",
     "text": [
      "Number of rows of english crosslingual embeddings: 999994\n"
     ]
    }
   ],
   "source": [
    "nb = nb_rows_embeddings('vecmap/en-crossemb.smalldict.vec')\n",
    "print(\"Number of rows of english crosslingual embeddings: {}\".format(nb))\n",
    "# First line of the embedding: 999994 300"
   ]
  },
  {
   "cell_type": "code",
   "execution_count": 3,
   "metadata": {},
   "outputs": [
    {
     "name": "stdout",
     "output_type": "stream",
     "text": [
      "Number of rows of basque crosslingual embeddings: 1824848\n"
     ]
    }
   ],
   "source": [
    "nb = nb_rows_embeddings('vecmap/eu-crossemb.smalldict.vec')\n",
    "print(\"Number of rows of basque crosslingual embeddings: {}\".format(nb))\n",
    "# First line of the embedding: 1824848 300"
   ]
  },
  {
   "cell_type": "markdown",
   "metadata": {},
   "source": [
    "### Downloading words"
   ]
  },
  {
   "cell_type": "code",
   "execution_count": 4,
   "metadata": {},
   "outputs": [],
   "source": [
    "import io\n",
    "import numpy as np\n",
    "\n",
    "def load_words(emb_path):\n",
    "    word2id = {}\n",
    "    with io.open(emb_path, 'r', encoding='utf-8', newline='\\n', errors='ignore') as f:\n",
    "        next(f)\n",
    "        for line in f:\n",
    "            word, _ = line.rstrip().split(' ', 1)\n",
    "            assert word not in word2id, 'word found twice'\n",
    "            word2id[word] = len(word2id)\n",
    "    return word2id"
   ]
  },
  {
   "cell_type": "code",
   "execution_count": 5,
   "metadata": {},
   "outputs": [],
   "source": [
    "src_path = 'vecmap/en-crossemb.smalldict.vec'\n",
    "tgt_path = 'vecmap/eu-crossemb.smalldict.vec'\n",
    "\n",
    "src_word2id = load_words(src_path)\n",
    "tgt_word2id = load_words(tgt_path)"
   ]
  },
  {
   "cell_type": "code",
   "execution_count": 8,
   "metadata": {},
   "outputs": [],
   "source": [
    "def display_dicts_of_words_beginning_with(src_word, tgt_word, src_word2id=src_word2id, tgt_word2id=tgt_word2id):\n",
    "    \n",
    "    src_word_dict = [(w,i) for (w,i) in src_word2id.items() if w.startswith(src_word)]\n",
    "    tgt_word_dict = [(w,i) for (w,i) in tgt_word2id.items() if w.startswith(tgt_word)]\n",
    "    print(\"Length of src_dict beginning with {}: {}\".format(src_word, len(src_word_dict)))\n",
    "    print(src_word_dict)\n",
    "    print(\"\")\n",
    "    print(\"Length of trg_dict beginning with {}: {}\".format(tgt_word, len(tgt_word_dict)))\n",
    "    print(tgt_word_dict)"
   ]
  },
  {
   "cell_type": "markdown",
   "metadata": {},
   "source": [
    "#### \"woman\" and \"emakume\""
   ]
  },
  {
   "cell_type": "code",
   "execution_count": 11,
   "metadata": {},
   "outputs": [
    {
     "name": "stdout",
     "output_type": "stream",
     "text": [
      "Length of src_dict beginning with woman: 31\n",
      "[('woman', 992), ('womanhood', 52055), ('womanly', 81183), ('womanizing', 89162), ('womanizer', 100443), ('womans', 114365), ('womanising', 128035), ('womaniser', 150283), ('womankind', 152287), ('woman.', 216253), ('womanist', 238793), ('woman-hating', 266212), ('woman-owned', 267998), ('woman-', 295157), ('womanliness', 338554), ('womanish', 346061), ('womanism', 367866), ('woman-centered', 477397), ('woman-friendly', 494400), ('womanizers', 516549), ('womanʼs', 524065), ('woman-hater', 675899), ('woman-to-woman', 686000), ('woman-child', 744032), ('womanisers', 748589), ('woman-centred', 777472), ('woman-only', 862148), ('woman-like', 873558), ('womanless', 925523), ('woman-led', 934298), ('woman--', 962309)]\n",
      "\n",
      "Length of trg_dict beginning with emakume: 167\n",
      "[('emakume', 56), ('emakumeak', 125), ('emakumeen', 2864), ('emakumea', 2960), ('emakumezko', 4311), ('emakumeek', 5666), ('emakumezkoen', 6782), ('emakumearen', 8618), ('emakumeei', 14341), ('emakumeena', 14588), ('emakumezkoak', 20064), ('emakumezkoa', 29740), ('emakumeentzako', 29823), ('emakumeentzat', 30456), ('emakumeari', 31352), ('emakumezkoek', 35115), ('emakumerik', 40251), ('emakumek', 40376), ('emakumezkoetan', 40580), ('emakumeekin', 42500), ('emakumeok', 47229), ('emakumeengan', 48852), ('emakumezkoena', 53903), ('emakumezkoentzat', 58057), ('emakumeko', 60109), ('emakumez', 61487), ('emakumeetan', 72139), ('emakumeren', 78101), ('emakumeon', 78659), ('emakumearekin', 81062), ('emakumezkoei', 97536), ('emakumerekin', 112163), ('emakumezkoenak', 125570), ('emakumezkoengan', 138828), ('emakumezkoentzako', 139122), ('emakumezkoaren', 143210), ('emakumeez', 149584), ('emakumeetako', 157241), ('emakumeenganako', 158182), ('emakumearena', 159081), ('emakumeekiko', 163199), ('emakumeri', 170063), ('emakumeenak', 172132), ('emakume-izena', 193875), ('emakumearengan', 218836), ('emakumeetatik', 220410), ('emakumeoi', 233116), ('emakumearentzat', 233184), ('emakumean', 269926), ('emakumetik', 294171), ('emakumearentzako', 321924), ('emakumen', 329917), ('emakumetakoa', 336007), ('emakumeaz', 363677), ('emakumetan', 371134), ('emakumezkoenean', 372867), ('emakumearengana', 385575), ('emakumetasuna', 386755), ('emakumetzat', 392949), ('emakumezkoarena', 463517), ('emakumeontzat', 466900), ('emakumeetara', 470480), ('emakumezalea', 480679), ('emakumeengana', 505650), ('emakumetako', 509413), ('emakumerako', 511496), ('emakumezale', 525460), ('emakume-elkarteekin', 532962), ('emakume-irudiak', 546773), ('emakumei', 570755), ('emakumezkoekin', 578081), ('emakumearenak', 582262), ('emakume-taldeak', 583230), ('emakumezkoari', 586851), ('emakumetasunaren', 590268), ('emakumearekiko', 610694), ('emakumearenganako', 617251), ('emakumee', 623920), ('emakumearengandik', 633504), ('emakume-irudi', 636308), ('emakume-eredu', 652792), ('emakume-elkarteak', 659542), ('emakumezkoarekin', 670276), ('emakumezkoekiko', 671585), ('emakumezkoarekiko', 762149), ('emakumezkok', 801726), ('emakumezkorik', 803143), ('emakumetatik', 805975), ('emakume-', 806525), ('emakume-mutil', 818776), ('emakumezkoan', 819206), ('emakumezkotzat', 831793), ('emakumetasun', 833569), ('emakume-gizon', 839332), ('emakumezkoenganako', 849429), ('emakumeengatik', 851840), ('emakumeentzakoak', 853136), ('emakumenganako', 864118), ('emakumeraino', 873010), ('emakumezkotan', 882934), ('emakume-gorpu', 890461), ('emakume-antzezle', 900538), ('emakumerena', 909540), ('emakume-kongregazioa', 910703), ('emakume-abeslari', 912649), ('emakume-eskaintzaren', 915967), ('emakumeetariko', 923801), ('emakume-jantziak', 928649), ('emakume-izen', 934962), ('emakumentzako', 936233), ('emakumezkoengatik', 941405), ('emakumeenetan', 963725), ('emakume-aktorea', 966833), ('emakumekeek', 970306), ('emakumeaketxetik', 973399), ('emakume-eskola', 987142), ('emakume-imagina', 992904), ('emakumetasunari', 995204), ('emakumearenaren', 1002460), ('emakumeei-', 1006243), ('emakumentzat', 1014837), ('emakume-estatuatxoak', 1044762), ('emakume-kartzela', 1047595), ('emakumezkori', 1058165), ('emakumeegia', 1099671), ('emakumekoak', 1113311), ('emakume-ohia', 1124989), ('emakumezkoarengan', 1154343), ('emakume-izenak', 1163350), ('emakumeetaz', 1175661), ('emakume-epaimahaitaldeak', 1182831), ('emakume-figurak', 1195829), ('emakume-gizonezkoen', 1204114), ('emakumenzkok', 1222407), ('emakume-taldea', 1246542), ('emakume-jagole', 1271435), ('emakume-filosofo', 1308619), ('emakume-ahotsen', 1325619), ('emakumezaleek', 1343949), ('emakume-amaren', 1348372), ('emakumenrik', 1373261), ('emakumezkoena-jokalariak.html', 1405971), ('emakume-aurpegi', 1422410), ('emakumearengatik', 1434538), ('emakumenak', 1470143), ('emakume-batzordean', 1522915), ('emakume-ahotsez', 1555859), ('emakumeendako', 1560251), ('emakume-barreekin', 1592077), ('emakume-kategoriei', 1592787), ('emakume-begirada', 1600007), ('emakume-zaletasuna', 1662355), ('emakume-burua', 1666417), ('emakumezkoenik', 1666690), ('emakumetxoak', 1692908), ('emakumezkeen', 1736378), ('emakumeak-arraza-eta-klasea', 1750487), ('emakumeengatiko', 1769377), ('emakumetasunak', 1772905), ('emakumerentzat', 1777054), ('emakumezkook', 1789001), ('emakumeongan', 1791289), ('emakumeagandik', 1791620), ('emakumeagana', 1801477), ('emakumeentzakoakuilu', 1804481), ('emakume-talde', 1822242), ('emakumezkoren', 1822562)]\n"
     ]
    }
   ],
   "source": [
    "display_dicts_of_words_beginning_with(\"woman\", \"emakume\")"
   ]
  },
  {
   "cell_type": "markdown",
   "metadata": {},
   "source": [
    "### Downloading embeddings"
   ]
  },
  {
   "cell_type": "code",
   "execution_count": 12,
   "metadata": {},
   "outputs": [],
   "source": [
    "import io\n",
    "import numpy as np\n",
    "\n",
    "def load_embeddings(emb_path, nmax=50000):\n",
    "    vectors = []\n",
    "    word2id = {}\n",
    "    with io.open(emb_path, 'r', encoding='utf-8', newline='\\n', errors='ignore') as f:\n",
    "        next(f)\n",
    "        for line in f:\n",
    "            word, vect = line.rstrip().split(' ', 1)\n",
    "            vect = np.fromstring(vect, sep=' ')\n",
    "            assert word not in word2id, 'word found twice'\n",
    "            vectors.append(vect)\n",
    "            word2id[word] = len(word2id)\n",
    "            if len(word2id) == nmax:\n",
    "                break\n",
    "    id2word = {v: k for k, v in word2id.items()}\n",
    "    embeddings = np.vstack(vectors)\n",
    "    return embeddings, id2word, word2id"
   ]
  },
  {
   "cell_type": "code",
   "execution_count": 13,
   "metadata": {},
   "outputs": [],
   "source": [
    "src_path = 'vecmap/en-crossemb.smalldict.vec'\n",
    "tgt_path = 'vecmap/eu-crossemb.smalldict.vec'\n",
    "\n",
    "nmax = 100000  # maximum number of word embeddings to load\n",
    "\n",
    "src_embeddings, src_id2word, src_word2id = load_embeddings(src_path, nmax)\n",
    "tgt_embeddings, tgt_id2word, tgt_word2id = load_embeddings(tgt_path, nmax)"
   ]
  },
  {
   "cell_type": "markdown",
   "metadata": {},
   "source": [
    "### Study of some embeddings"
   ]
  },
  {
   "cell_type": "code",
   "execution_count": 14,
   "metadata": {},
   "outputs": [
    {
     "name": "stdout",
     "output_type": "stream",
     "text": [
      "105\n",
      "[-4.84130e-01 -1.75258e-02  7.75707e-02  1.11623e-01  4.63866e-02\n",
      "  2.31642e-01  7.40832e-03 -1.87734e-01  7.71220e-02 -2.50158e-02\n",
      " -1.41447e-01  3.00059e-03 -5.20999e-02  5.51655e-02 -4.40342e-03\n",
      " -6.80108e-02 -1.09424e-01 -1.26838e-02  6.15051e-02  7.48683e-02\n",
      " -2.85518e-03 -3.54776e-02  3.02908e-02 -2.07589e-02 -4.89974e-02\n",
      "  1.00178e-01 -4.92094e-02 -8.51080e-02 -7.68687e-02  4.47452e-02\n",
      "  2.01065e-02 -3.32071e-02 -3.86746e-02  2.08733e-02 -5.71891e-03\n",
      "  2.56362e-02  1.39678e-02  1.21209e-02  3.59077e-03  8.15553e-02\n",
      "  3.26820e-02  2.81385e-02  1.08541e-01 -2.23456e-02 -2.28488e-03\n",
      " -6.65323e-02  4.05732e-02 -2.20357e-02  2.70534e-02 -4.59819e-02\n",
      " -9.28299e-02 -3.05875e-02 -3.28451e-02 -7.15693e-03 -3.65319e-02\n",
      " -9.06376e-02 -1.13887e-02  1.53819e-02 -5.29587e-03  4.18164e-02\n",
      " -1.21071e-02 -2.09002e-02 -4.93592e-02  2.86522e-02 -1.29261e-02\n",
      "  1.16579e-02  2.15741e-02 -5.36216e-02  7.47755e-02  7.19483e-02\n",
      " -2.66018e-02  6.56253e-02  3.39228e-02 -3.51786e-02 -1.75284e-02\n",
      " -2.16010e-02 -2.03560e-02  2.41399e-02  2.65346e-02  1.07489e-02\n",
      " -5.49205e-02  5.20413e-02 -2.04190e-02 -5.48921e-02  2.66704e-02\n",
      " -4.94475e-02  1.03662e-03 -9.47731e-03  1.81506e-02  1.87973e-02\n",
      " -6.68208e-03 -2.53072e-02  2.10720e-02  1.53460e-02  6.91269e-02\n",
      " -3.00038e-02 -1.62356e-02 -8.31000e-03 -3.90754e-02 -3.03323e-02\n",
      " -3.59705e-02 -2.90462e-02 -2.94202e-02 -2.43783e-02 -1.55719e-02\n",
      "  1.75117e-02  7.26761e-03 -1.06752e-02 -1.73927e-02 -7.31171e-03\n",
      "  5.68257e-03 -1.81585e-03  6.65977e-02 -4.01949e-02 -3.53994e-03\n",
      "  1.75172e-03 -1.83521e-02 -2.15636e-02 -6.26330e-02  4.16449e-02\n",
      "  1.04653e-02 -2.06286e-02 -4.15800e-02  2.94075e-02  6.99750e-03\n",
      " -1.51037e-02 -3.80063e-02 -6.37686e-03  1.23711e-02 -2.81785e-03\n",
      "  3.42709e-03  5.45325e-03 -3.74885e-02 -2.57096e-03 -1.01610e-02\n",
      "  1.53051e-02  1.95138e-02  3.42986e-02  3.84748e-03 -1.34866e-02\n",
      " -5.09288e-03  1.26268e-03  6.44325e-04  1.11831e-02 -3.55904e-02\n",
      "  2.54319e-02 -1.97691e-02  7.07975e-03 -1.78436e-03  9.25474e-03\n",
      "  3.45987e-03  9.91758e-03 -2.98985e-02  3.26894e-02 -2.03073e-03\n",
      " -2.29744e-02 -1.63404e-03  1.98146e-02  1.77277e-02  2.15644e-03\n",
      "  2.96788e-03  2.05224e-02  1.00403e-02 -1.78392e-02  2.77180e-02\n",
      " -6.18742e-03  1.26878e-02  1.58168e-02  1.60251e-02  2.08745e-02\n",
      " -2.77921e-02  4.36823e-03  2.45748e-02 -1.46117e-02 -1.04519e-03\n",
      "  1.56235e-02  8.46831e-03  2.52496e-02 -2.64564e-02 -1.55454e-02\n",
      "  3.34883e-02 -2.95658e-02  1.94927e-03 -6.79562e-04 -2.95193e-02\n",
      " -1.31435e-02 -1.31386e-02  3.65510e-03  1.28904e-02 -2.11146e-02\n",
      " -1.26514e-02  6.46690e-04 -1.30318e-02  2.00641e-02  1.35042e-02\n",
      " -2.04376e-02  1.22700e-02  1.43884e-02  1.21330e-02  8.30235e-03\n",
      "  2.85848e-02 -2.45890e-02  3.47457e-02  2.27437e-02  3.40069e-03\n",
      "  5.65461e-03 -2.30681e-02 -1.22122e-02  7.65594e-03  8.63642e-03\n",
      " -1.96931e-02 -4.98956e-02  2.07928e-02  1.81432e-02 -1.30326e-02\n",
      " -3.27354e-04 -1.31936e-02 -1.59727e-02  1.83845e-02  2.44429e-02\n",
      " -7.97200e-03  1.25424e-02  3.35967e-02  7.84129e-03  1.68330e-02\n",
      " -2.08593e-02 -1.19383e-03  1.31122e-02  8.03498e-03 -2.85939e-03\n",
      " -1.28919e-03 -1.44534e-02 -1.03673e-03 -3.22618e-03 -1.17237e-02\n",
      "  7.77326e-03  9.32387e-03  1.36053e-02  4.39033e-03  7.66908e-03\n",
      "  1.91899e-02 -1.09839e-02  1.53075e-02  2.11435e-02  1.89063e-02\n",
      "  8.73606e-04  8.89357e-03  2.31611e-02 -1.58521e-02  1.25898e-02\n",
      "  1.32925e-02 -6.74548e-03 -4.12235e-03 -3.58017e-03  6.53985e-03\n",
      "  1.29540e-02 -1.04937e-02 -4.82533e-03 -6.72378e-03 -2.37048e-02\n",
      "  6.35657e-03 -1.54929e-03 -7.46568e-03 -1.86518e-02 -1.68766e-02\n",
      "  2.79180e-03 -1.97500e-02  9.28955e-04  3.56082e-04  1.26453e-02\n",
      "  1.28977e-02 -3.71347e-03 -2.32141e-02 -6.45759e-04 -4.24552e-04\n",
      " -7.90915e-03  8.97618e-03  1.32736e-02 -1.01173e-02  2.51116e-03\n",
      " -5.96822e-03  1.08371e-02  5.45603e-04  9.86042e-03  2.40663e-03\n",
      " -3.86771e-03  2.10744e-03 -2.78362e-03 -8.23535e-04 -1.26846e-02\n",
      " -8.83012e-03 -1.29847e-02  4.63443e-03 -8.72806e-04 -1.64555e-02\n",
      " -4.42327e-03  2.20230e-02 -1.93745e-04  6.94547e-03  8.06608e-03]\n"
     ]
    }
   ],
   "source": [
    "print(src_word2id[\"two\"])\n",
    "print(src_embeddings[105])"
   ]
  },
  {
   "cell_type": "code",
   "execution_count": 25,
   "metadata": {},
   "outputs": [
    {
     "name": "stdout",
     "output_type": "stream",
     "text": [
      "55\n",
      "[-3.14543e-01  6.38796e-02  9.84498e-02 -4.45751e-01 -4.67128e-01\n",
      "  1.07583e-01 -1.18810e-01  8.13774e-02  1.85561e-01  1.44222e-03\n",
      " -3.37749e-02 -1.53178e-02  3.05862e-02  1.73408e-02  3.25634e-02\n",
      " -5.41374e-02 -2.32770e-02  1.15614e-02  3.83423e-02  4.77873e-02\n",
      " -2.10600e-02 -2.84459e-02 -3.72212e-02  1.54777e-02 -4.24416e-02\n",
      "  3.60414e-02  4.66721e-03 -9.36004e-02 -2.85070e-02  4.05079e-03\n",
      "  3.32663e-02  3.31352e-02 -4.79919e-02  2.09183e-02 -4.08186e-02\n",
      "  9.07721e-03 -6.23765e-03 -5.58511e-03 -1.64784e-02  1.93405e-02\n",
      "  2.97173e-02  1.97072e-03  4.71014e-02 -2.88424e-02  2.19457e-02\n",
      " -3.99940e-02 -2.08286e-02 -1.52236e-03  6.06685e-03 -2.11577e-02\n",
      " -3.40204e-02 -2.29821e-02  3.22431e-03  3.90869e-02 -5.03244e-03\n",
      " -4.22195e-02 -3.71943e-02  3.59808e-03  3.26572e-02  1.58905e-02\n",
      "  2.55556e-02 -1.91363e-02 -5.30314e-02 -4.60428e-03 -1.59061e-02\n",
      "  1.20528e-02 -2.23527e-02 -3.57533e-02  4.82445e-02  5.83796e-02\n",
      "  3.50307e-03 -1.79639e-03 -5.87538e-04  3.00156e-02 -1.07642e-02\n",
      " -1.20788e-02 -2.67803e-02  1.38348e-02  5.75352e-03  4.60222e-03\n",
      "  7.13970e-03 -7.45001e-04 -1.41291e-02  5.42151e-03  3.76751e-02\n",
      " -1.73247e-02  1.67215e-02 -1.59690e-02  4.07979e-02 -4.62956e-03\n",
      " -1.02294e-02  2.39751e-02  4.98474e-04  1.93600e-02  2.73896e-02\n",
      " -1.41398e-02 -6.37144e-04 -1.50627e-02 -3.60247e-02 -3.16065e-02\n",
      "  2.69195e-03  1.42764e-02 -6.87933e-03 -5.35059e-03  2.39377e-02\n",
      "  2.16040e-03 -2.75449e-02 -3.69169e-03 -3.00977e-02  4.80185e-03\n",
      "  3.19819e-02 -1.05901e-02 -4.93183e-03  5.22611e-03  1.47277e-02\n",
      " -1.99985e-02 -5.87484e-03 -3.11340e-02  2.44260e-03 -1.96348e-02\n",
      " -1.72351e-03 -1.60093e-02  8.22544e-03  3.40141e-02 -1.81536e-02\n",
      " -4.68423e-02  3.42645e-03  8.96097e-03  2.79233e-02  2.93819e-02\n",
      "  1.71691e-03  6.45934e-03 -6.28535e-02  5.40779e-04 -1.26972e-03\n",
      " -1.65548e-02  1.16098e-02  2.98821e-02  7.83885e-03 -4.22309e-03\n",
      "  1.25377e-02 -6.30191e-03 -6.81171e-03 -3.23430e-03  8.02843e-03\n",
      "  1.67013e-02  1.85753e-02  4.74911e-03 -4.80845e-03 -1.47907e-03\n",
      "  2.23675e-02  3.88154e-03 -1.85612e-03 -8.50011e-03 -2.43417e-02\n",
      "  1.14433e-02 -8.40546e-03  9.52524e-03  1.81344e-02  2.16587e-02\n",
      " -1.50109e-02  4.04383e-02  5.89176e-03  5.61291e-03  1.54463e-02\n",
      " -2.17675e-02 -8.56214e-03  4.44076e-03 -2.65325e-03  1.59393e-02\n",
      " -2.02155e-02  7.23358e-03  1.52050e-02 -1.58960e-02  1.67243e-02\n",
      " -1.13892e-02 -1.28103e-02 -2.82848e-02  3.19366e-02 -1.08334e-03\n",
      "  2.97488e-02  3.44886e-04  1.42144e-02  3.71071e-03  9.70203e-03\n",
      " -6.12089e-03  6.82156e-04  3.12563e-02 -7.34742e-03  4.94002e-03\n",
      "  7.35577e-03  1.11414e-02  6.20374e-03  5.29718e-03  7.90101e-03\n",
      "  1.38000e-02 -1.19948e-02  9.33211e-03  1.45244e-03  1.40169e-02\n",
      " -3.58638e-03  9.70591e-03  1.30579e-03  4.44265e-03  1.47283e-02\n",
      " -1.80238e-03 -3.08461e-02  3.96267e-03 -1.82479e-02 -2.33771e-02\n",
      "  2.94583e-02 -1.19544e-02  1.71436e-02  1.00237e-02  2.24773e-02\n",
      " -1.11687e-02 -1.50075e-02  4.09220e-03  2.80045e-02  1.41588e-02\n",
      "  1.35982e-02  8.78025e-03 -7.94834e-03  1.96405e-02  2.68038e-02\n",
      " -1.37055e-02  1.12583e-02  1.00921e-02 -1.07163e-02 -5.17871e-03\n",
      "  8.47334e-03  6.77582e-03 -2.51939e-03 -3.63648e-04  8.35838e-03\n",
      "  1.16684e-02  6.38439e-03 -3.90987e-03 -1.34244e-02 -7.37572e-03\n",
      " -2.86669e-03  1.26507e-02  2.91006e-03  1.27990e-02  1.04955e-03\n",
      " -5.84239e-03  6.07131e-03  7.92798e-03 -7.69152e-04 -9.39382e-03\n",
      "  1.46724e-03 -1.30296e-02  1.29637e-02 -1.27554e-02  1.09442e-02\n",
      " -3.59192e-04 -3.37636e-03  1.73836e-02  8.22928e-04  5.97254e-03\n",
      " -9.25954e-03  6.68576e-03  1.26432e-02 -8.00026e-03 -4.17536e-03\n",
      "  1.16012e-03 -7.23312e-03  2.28979e-03 -1.29822e-03 -8.22077e-03\n",
      "  2.34333e-02 -2.07655e-02  4.56301e-03  2.31658e-03 -2.05644e-03\n",
      " -1.85487e-02 -1.13851e-02 -1.44168e-02 -6.81340e-03 -1.67162e-02\n",
      "  2.08812e-03 -9.62142e-03 -1.50260e-02 -1.66126e-02  2.40768e-03\n",
      " -1.62074e-02  5.42268e-03 -1.63860e-02  1.03118e-02 -1.50829e-02\n",
      " -1.20392e-02 -1.71933e-02  6.57276e-03 -1.78967e-02  5.66955e-03\n",
      " -4.80386e-03 -2.58816e-03 -2.30626e-02  4.74202e-03  3.20791e-02]\n"
     ]
    }
   ],
   "source": [
    "print(tgt_word2id[\"bi\"])\n",
    "print(tgt_embeddings[55])"
   ]
  },
  {
   "cell_type": "code",
   "execution_count": 15,
   "metadata": {},
   "outputs": [
    {
     "name": "stdout",
     "output_type": "stream",
     "text": [
      "[-3.35128e-01 -2.64447e-01  1.11744e-01  3.01152e-01 -1.14684e-01\n",
      " -2.45247e-03 -6.66556e-02  1.36981e-01  7.65685e-02  8.82429e-02\n",
      "  4.28904e-03 -4.89936e-02  8.57952e-03 -1.07057e-01 -5.69875e-02\n",
      "  1.81897e-02  2.95213e-02 -3.75979e-02  1.15817e-01 -9.67859e-02\n",
      "  4.51852e-02  1.07415e-02 -5.55106e-02 -1.98081e-02  1.81098e-02\n",
      "  4.95396e-02 -2.33557e-02 -3.88754e-02  2.27424e-02 -3.50351e-02\n",
      "  6.32546e-02 -6.68446e-02 -8.04029e-02  2.26518e-02  1.91795e-02\n",
      " -2.77655e-02 -1.19510e-01  1.10158e-02 -5.18892e-02 -3.14033e-02\n",
      "  1.90076e-02 -2.98851e-02  1.12204e-02 -6.19478e-02 -4.51808e-02\n",
      " -2.94964e-02  5.97682e-02  5.00663e-03 -7.03018e-03  2.42868e-02\n",
      "  3.82185e-02  1.68461e-02  6.78522e-02 -4.34230e-02 -4.13948e-02\n",
      "  1.20345e-02 -1.86167e-02 -4.25276e-02 -2.94085e-02 -8.60062e-02\n",
      " -9.83228e-03  1.03952e-02 -2.78639e-02 -7.30548e-02  2.27501e-02\n",
      " -5.95617e-02 -6.39597e-02  1.17391e-02  4.00236e-02 -1.07287e-02\n",
      "  3.00627e-02 -3.98762e-02  1.92755e-02 -1.09353e-02 -2.58424e-02\n",
      " -1.05186e-02 -3.31948e-02 -2.26682e-02  4.46963e-02 -2.86426e-02\n",
      " -3.29339e-03  2.74458e-02  1.56551e-02 -4.22892e-02  2.18176e-02\n",
      " -7.09297e-03 -4.53179e-02 -1.87328e-02  3.61443e-02 -1.68520e-02\n",
      " -1.50087e-03 -1.20538e-02 -2.06198e-02 -8.94407e-03  5.60341e-02\n",
      "  3.06595e-02  9.09234e-03  3.17170e-03  2.92832e-02 -4.51528e-02\n",
      " -1.63817e-02 -7.32368e-03  7.07222e-02  2.30684e-02  1.75853e-02\n",
      " -2.24780e-02  6.78822e-03  9.62633e-03 -1.58219e-02  5.85690e-02\n",
      " -1.04804e-02  2.18532e-02  2.88973e-02  9.52356e-03  3.72733e-02\n",
      " -2.97710e-02 -3.15182e-03 -1.40753e-02 -1.75496e-02  3.30676e-02\n",
      " -1.17354e-02  1.42466e-02  3.70011e-02 -1.25295e-02  1.55477e-02\n",
      " -1.10207e-02  2.55814e-02 -2.12586e-04  2.25845e-02  1.65704e-02\n",
      " -4.03479e-02 -2.13031e-02  3.47284e-02 -2.89188e-02  7.10719e-03\n",
      "  6.06420e-03  2.56424e-02 -1.02200e-02  1.45889e-02 -3.22150e-03\n",
      "  9.11393e-03 -1.41974e-02 -1.13695e-02 -5.66117e-03 -1.69811e-02\n",
      " -3.96190e-02 -4.10235e-03 -2.94954e-02  5.14854e-03  2.03047e-02\n",
      "  5.56395e-04 -3.21028e-02 -1.34770e-02  1.41673e-02  1.20461e-02\n",
      "  2.73071e-02 -1.21764e-02  2.38258e-03  4.28074e-02  4.49824e-02\n",
      " -2.63274e-02 -4.94253e-02  6.05911e-03  2.81039e-03  1.79471e-02\n",
      "  1.74816e-03 -4.50488e-02 -2.41841e-02 -1.60880e-02  4.07590e-03\n",
      " -4.33183e-02 -3.12766e-03 -1.47000e-02  4.34084e-02 -2.45639e-03\n",
      "  9.72179e-03  2.34461e-02 -1.46929e-02 -4.45048e-02  2.67174e-02\n",
      "  8.01677e-03 -1.07154e-02 -3.33153e-02 -6.21779e-03 -2.88877e-03\n",
      "  8.29678e-04 -2.64026e-02  1.94884e-02 -8.68399e-03 -5.04079e-04\n",
      "  1.62579e-03 -3.27752e-03 -3.21102e-03  2.14142e-02 -1.39647e-02\n",
      " -6.83496e-03  3.46433e-04  9.54263e-03 -1.97445e-02  2.10821e-02\n",
      " -2.56953e-03  3.21584e-03 -7.70689e-03 -2.26681e-02 -9.15223e-03\n",
      " -2.07964e-02  5.14293e-03  2.06706e-02 -5.54673e-02 -2.84735e-02\n",
      " -6.06456e-02 -3.07386e-03  1.97277e-02 -2.81386e-03  4.31690e-03\n",
      "  1.48152e-02 -4.05758e-03  7.46270e-03  9.33686e-03 -3.44010e-03\n",
      " -7.59647e-03  3.53850e-03 -1.00797e-03  5.44084e-03  3.51703e-03\n",
      "  1.93404e-02  2.65421e-02 -4.79113e-02  1.66565e-02  2.50924e-03\n",
      "  7.92818e-03 -3.23062e-02 -6.20351e-03  1.03607e-02 -1.14625e-02\n",
      " -1.13623e-02 -1.35625e-02 -1.92335e-02 -9.39754e-03 -2.91398e-03\n",
      " -5.18580e-03 -4.17201e-02  1.54979e-03  8.42605e-03 -3.96264e-02\n",
      " -2.79876e-02  2.28324e-02  2.47824e-02 -1.12282e-02 -1.34982e-02\n",
      " -1.04506e-03  1.49350e-03 -4.35701e-02  4.70717e-03  6.84905e-04\n",
      "  1.81421e-02  5.68811e-04 -6.24421e-04 -1.83129e-02  5.96439e-03\n",
      "  4.61499e-03  1.07546e-02 -5.61225e-03  1.56431e-02  1.46745e-04\n",
      "  1.96523e-02 -4.50331e-03 -2.25016e-02 -1.49435e-02  1.06844e-02\n",
      " -6.25586e-04  1.34897e-02  1.71040e-02 -2.15256e-03  2.61445e-03\n",
      " -8.14324e-03 -1.94969e-02 -2.57211e-03 -8.68661e-03  3.49844e-02\n",
      " -7.05936e-03 -7.42543e-03  1.47879e-02 -1.14035e-02 -3.63003e-03\n",
      "  1.59059e-02 -1.25470e-02  9.02360e-03 -9.87631e-03  3.67125e-03\n",
      "  9.94598e-03 -5.80536e-03 -1.24149e-02 -1.56294e-02  7.92933e-05\n",
      " -1.22319e-02 -1.19120e-02  3.42136e-03 -8.88988e-03  7.80948e-03]\n"
     ]
    }
   ],
   "source": [
    "print(src_embeddings[75000])"
   ]
  },
  {
   "cell_type": "markdown",
   "metadata": {},
   "source": [
    "###  NN retrieval"
   ]
  },
  {
   "cell_type": "code",
   "execution_count": 23,
   "metadata": {},
   "outputs": [],
   "source": [
    "def get_nn(word, src_emb, src_id2word, tgt_emb, tgt_id2word, K=5):\n",
    "    print(\"Nearest neighbors of {0}:\".format(word))\n",
    "    word2id = {v: k for k, v in src_id2word.items()}\n",
    "    word_emb = src_emb[word2id[word]]\n",
    "    scores = (tgt_emb / np.linalg.norm(tgt_emb, 2, 1)[:, None]).dot(word_emb / np.linalg.norm(word_emb))\n",
    "    k_best = scores.argsort()[-K:][::-1]\n",
    "    for i, idx in enumerate(k_best):\n",
    "        print('%.4f - %s' % (scores[idx], tgt_id2word[idx]))"
   ]
  },
  {
   "cell_type": "code",
   "execution_count": 25,
   "metadata": {},
   "outputs": [
    {
     "name": "stdout",
     "output_type": "stream",
     "text": [
      "Nearest neighbors of take:\n",
      "1.0000 - take\n",
      "0.8654 - give\n",
      "0.8459 - leave\n",
      "0.8454 - bring\n",
      "0.8358 - make\n"
     ]
    }
   ],
   "source": [
    "# printing nearest neighbors in the source space\n",
    "src_word = 'take'\n",
    "get_nn(src_word, src_embeddings, src_id2word, src_embeddings, src_id2word, K=5)"
   ]
  },
  {
   "cell_type": "code",
   "execution_count": 26,
   "metadata": {},
   "outputs": [
    {
     "data": {
      "text/plain": [
       "(226, 424, 741)"
      ]
     },
     "execution_count": 26,
     "metadata": {},
     "output_type": "execute_result"
    }
   ],
   "source": [
    "src_word2id['take'], src_word2id['took'], src_word2id['taken']"
   ]
  },
  {
   "cell_type": "code",
   "execution_count": 27,
   "metadata": {},
   "outputs": [
    {
     "data": {
      "text/plain": [
       "(179, 295, 1944)"
      ]
     },
     "execution_count": 27,
     "metadata": {},
     "output_type": "execute_result"
    }
   ],
   "source": [
    "tgt_word2id['hartu'], tgt_word2id['hartzen'], tgt_word2id['hartuko']"
   ]
  },
  {
   "cell_type": "code",
   "execution_count": 28,
   "metadata": {},
   "outputs": [
    {
     "name": "stdout",
     "output_type": "stream",
     "text": [
      "Nearest neighbors of take:\n",
      "0.8060 - hartzeko\n",
      "0.7433 - emateko\n",
      "0.7400 - lagatzeko\n"
     ]
    }
   ],
   "source": [
    "# printing nearest neighbors in the target space\n",
    "src_word = 'take'\n",
    "get_nn(src_word, src_embeddings, src_id2word, tgt_embeddings, tgt_id2word, K=3)"
   ]
  },
  {
   "cell_type": "code",
   "execution_count": 29,
   "metadata": {},
   "outputs": [
    {
     "name": "stdout",
     "output_type": "stream",
     "text": [
      "Nearest neighbors of took:\n",
      "0.8007 - hartu\n",
      "0.7930 - egin\n",
      "0.7390 - utzi\n"
     ]
    }
   ],
   "source": [
    "# printing nearest neighbors in the target space\n",
    "src_word = 'took'\n",
    "get_nn(src_word, src_embeddings, src_id2word, tgt_embeddings, tgt_id2word, K=3)"
   ]
  },
  {
   "cell_type": "code",
   "execution_count": 30,
   "metadata": {},
   "outputs": [
    {
     "name": "stdout",
     "output_type": "stream",
     "text": [
      "Nearest neighbors of taken:\n",
      "0.7846 - hartu\n",
      "0.7608 - egin\n",
      "0.7131 - jaso\n"
     ]
    }
   ],
   "source": [
    "src_word = 'taken'\n",
    "get_nn(src_word, src_embeddings, src_id2word, tgt_embeddings, tgt_id2word, K=3)"
   ]
  },
  {
   "cell_type": "code",
   "execution_count": null,
   "metadata": {},
   "outputs": [],
   "source": []
  }
 ],
 "metadata": {
  "kernelspec": {
   "display_name": "Python 3",
   "language": "python",
   "name": "python3"
  },
  "language_info": {
   "codemirror_mode": {
    "name": "ipython",
    "version": 3
   },
   "file_extension": ".py",
   "mimetype": "text/x-python",
   "name": "python",
   "nbconvert_exporter": "python",
   "pygments_lexer": "ipython3",
   "version": "3.6.6"
  }
 },
 "nbformat": 4,
 "nbformat_minor": 2
}
